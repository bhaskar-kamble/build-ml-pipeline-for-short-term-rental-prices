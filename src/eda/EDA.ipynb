{
 "cells": [
  {
   "cell_type": "code",
   "execution_count": 40,
   "id": "fcdfd8f8-018a-4a40-a160-7e05f87f767d",
   "metadata": {},
   "outputs": [],
   "source": [
    "import wandb\n",
    "import pandas as pd"
   ]
  },
  {
   "cell_type": "code",
   "execution_count": null,
   "id": "91f13072-33e0-48a0-8ba4-716b3f9aefb6",
   "metadata": {},
   "outputs": [],
   "source": []
  },
  {
   "cell_type": "code",
   "execution_count": 41,
   "id": "c581c79c-18f9-41fb-a768-a256165c9d11",
   "metadata": {},
   "outputs": [],
   "source": [
    "from ydata_profiling import ProfileReport"
   ]
  },
  {
   "cell_type": "code",
   "execution_count": 42,
   "id": "f7ce6f3a-cf03-408c-b9f6-0722ebd48138",
   "metadata": {},
   "outputs": [
    {
     "data": {
      "text/html": [
       "Finishing last run (ID:kfrn8nhr) before initializing another..."
      ],
      "text/plain": [
       "<IPython.core.display.HTML object>"
      ]
     },
     "metadata": {},
     "output_type": "display_data"
    },
    {
     "data": {
      "application/vnd.jupyter.widget-view+json": {
       "model_id": "fe6d5fa4bf464867baa8173de42d0f7a",
       "version_major": 2,
       "version_minor": 0
      },
      "text/plain": [
       "VBox(children=(Label(value='0.269 MB of 0.269 MB uploaded (0.027 MB deduped)\\r'), FloatProgress(value=1.0, max…"
      ]
     },
     "metadata": {},
     "output_type": "display_data"
    },
    {
     "data": {
      "text/html": [
       "W&B sync reduced upload amount by 7.2%             "
      ],
      "text/plain": [
       "<IPython.core.display.HTML object>"
      ]
     },
     "metadata": {},
     "output_type": "display_data"
    },
    {
     "data": {
      "text/html": [
       " View run <strong style=\"color:#cdcd00\">spring-grass-2</strong> at: <a href='https://wandb.ai/kbhaskar-between-jobs/nyc_airbnb/runs/kfrn8nhr' target=\"_blank\">https://wandb.ai/kbhaskar-between-jobs/nyc_airbnb/runs/kfrn8nhr</a><br/> View job at <a href='https://wandb.ai/kbhaskar-between-jobs/nyc_airbnb/jobs/QXJ0aWZhY3RDb2xsZWN0aW9uOjYyNTU5ODY5MA==/version_details/v0' target=\"_blank\">https://wandb.ai/kbhaskar-between-jobs/nyc_airbnb/jobs/QXJ0aWZhY3RDb2xsZWN0aW9uOjYyNTU5ODY5MA==/version_details/v0</a><br/>Synced 6 W&B file(s), 0 media file(s), 15 artifact file(s) and 1 other file(s)"
      ],
      "text/plain": [
       "<IPython.core.display.HTML object>"
      ]
     },
     "metadata": {},
     "output_type": "display_data"
    },
    {
     "data": {
      "text/html": [
       "Find logs at: <code>./wandb/run-20250430_105852-kfrn8nhr/logs</code>"
      ],
      "text/plain": [
       "<IPython.core.display.HTML object>"
      ]
     },
     "metadata": {},
     "output_type": "display_data"
    },
    {
     "data": {
      "text/html": [
       "Successfully finished last run (ID:kfrn8nhr). Initializing new run:<br/>"
      ],
      "text/plain": [
       "<IPython.core.display.HTML object>"
      ]
     },
     "metadata": {},
     "output_type": "display_data"
    },
    {
     "data": {
      "application/vnd.jupyter.widget-view+json": {
       "model_id": "84c8a6bcd3554f7792085323694b829c",
       "version_major": 2,
       "version_minor": 0
      },
      "text/plain": [
       "VBox(children=(Label(value='Waiting for wandb.init()...\\r'), FloatProgress(value=0.011113640489121382, max=1.0…"
      ]
     },
     "metadata": {},
     "output_type": "display_data"
    },
    {
     "data": {
      "text/html": [
       "wandb version 0.19.10 is available!  To upgrade, please run:\n",
       " $ pip install wandb --upgrade"
      ],
      "text/plain": [
       "<IPython.core.display.HTML object>"
      ]
     },
     "metadata": {},
     "output_type": "display_data"
    },
    {
     "data": {
      "text/html": [
       "Tracking run with wandb version 0.16.4"
      ],
      "text/plain": [
       "<IPython.core.display.HTML object>"
      ]
     },
     "metadata": {},
     "output_type": "display_data"
    },
    {
     "data": {
      "text/html": [
       "Run data is saved locally in <code>/home/kbhaskar/Github_Repos/build-ml-pipeline-for-short-term-rental-prices/src/eda/wandb/run-20250430_121308-xex20kht</code>"
      ],
      "text/plain": [
       "<IPython.core.display.HTML object>"
      ]
     },
     "metadata": {},
     "output_type": "display_data"
    },
    {
     "data": {
      "text/html": [
       "Syncing run <strong><a href='https://wandb.ai/kbhaskar-between-jobs/nyc_airbnb/runs/xex20kht' target=\"_blank\">worldly-dragon-3</a></strong> to <a href='https://wandb.ai/kbhaskar-between-jobs/nyc_airbnb' target=\"_blank\">Weights & Biases</a> (<a href='https://wandb.me/run' target=\"_blank\">docs</a>)<br/>"
      ],
      "text/plain": [
       "<IPython.core.display.HTML object>"
      ]
     },
     "metadata": {},
     "output_type": "display_data"
    },
    {
     "data": {
      "text/html": [
       " View project at <a href='https://wandb.ai/kbhaskar-between-jobs/nyc_airbnb' target=\"_blank\">https://wandb.ai/kbhaskar-between-jobs/nyc_airbnb</a>"
      ],
      "text/plain": [
       "<IPython.core.display.HTML object>"
      ]
     },
     "metadata": {},
     "output_type": "display_data"
    },
    {
     "data": {
      "text/html": [
       " View run at <a href='https://wandb.ai/kbhaskar-between-jobs/nyc_airbnb/runs/xex20kht' target=\"_blank\">https://wandb.ai/kbhaskar-between-jobs/nyc_airbnb/runs/xex20kht</a>"
      ],
      "text/plain": [
       "<IPython.core.display.HTML object>"
      ]
     },
     "metadata": {},
     "output_type": "display_data"
    }
   ],
   "source": [
    "run = wandb.init(project=\"nyc_airbnb\", group=\"eda\", save_code=True)\n",
    "local_path = wandb.use_artifact(\"sample.csv:latest\").file()\n",
    "df = pd.read_csv(local_path)"
   ]
  },
  {
   "cell_type": "code",
   "execution_count": 43,
   "id": "170c41a1-4f73-4f66-9614-3801aa85a1fb",
   "metadata": {},
   "outputs": [
    {
     "data": {
      "text/plain": [
       "(20000, 16)"
      ]
     },
     "execution_count": 43,
     "metadata": {},
     "output_type": "execute_result"
    }
   ],
   "source": [
    "df.shape"
   ]
  },
  {
   "cell_type": "code",
   "execution_count": 44,
   "id": "c34b6022-039c-459a-a02e-d72380e70998",
   "metadata": {},
   "outputs": [
    {
     "data": {
      "application/vnd.jupyter.widget-view+json": {
       "model_id": "c7367d35704c4baaa3f75d668b0c0ea5",
       "version_major": 2,
       "version_minor": 0
      },
      "text/plain": [
       "Summarize dataset:   0%|          | 0/5 [00:00<?, ?it/s]"
      ]
     },
     "metadata": {},
     "output_type": "display_data"
    },
    {
     "data": {
      "application/vnd.jupyter.widget-view+json": {
       "model_id": "ce26bf72df0e45ecbaa34bc7cb2f7814",
       "version_major": 2,
       "version_minor": 0
      },
      "text/plain": [
       "Generate report structure:   0%|          | 0/1 [00:00<?, ?it/s]"
      ]
     },
     "metadata": {},
     "output_type": "display_data"
    },
    {
     "data": {
      "application/vnd.jupyter.widget-view+json": {
       "model_id": "28b39f7c17d84dbd819cfe6327b5f363",
       "version_major": 2,
       "version_minor": 0
      },
      "text/plain": [
       "Render widgets:   0%|          | 0/1 [00:00<?, ?it/s]"
      ]
     },
     "metadata": {},
     "output_type": "display_data"
    },
    {
     "data": {
      "application/vnd.jupyter.widget-view+json": {
       "model_id": "5518858eff724d308efcfbe17836e734",
       "version_major": 2,
       "version_minor": 0
      },
      "text/plain": [
       "VBox(children=(Tab(children=(Tab(children=(GridBox(children=(VBox(children=(GridspecLayout(children=(HTML(valu…"
      ]
     },
     "metadata": {},
     "output_type": "display_data"
    }
   ],
   "source": [
    "profile = ProfileReport(df, title=\"Pandas Profiling Report\", explorative=True)\n",
    "profile.to_widgets()"
   ]
  },
  {
   "cell_type": "code",
   "execution_count": 45,
   "id": "386770a5-fc52-408a-8e06-39c76d5d92bb",
   "metadata": {},
   "outputs": [
    {
     "data": {
      "text/plain": [
       "id                                  int64\n",
       "name                               object\n",
       "host_id                             int64\n",
       "host_name                          object\n",
       "neighbourhood_group                object\n",
       "neighbourhood                      object\n",
       "latitude                          float64\n",
       "longitude                         float64\n",
       "room_type                          object\n",
       "price                               int64\n",
       "minimum_nights                      int64\n",
       "number_of_reviews                   int64\n",
       "last_review                        object\n",
       "reviews_per_month                 float64\n",
       "calculated_host_listings_count      int64\n",
       "availability_365                    int64\n",
       "dtype: object"
      ]
     },
     "execution_count": 45,
     "metadata": {},
     "output_type": "execute_result"
    }
   ],
   "source": [
    "df.dtypes"
   ]
  },
  {
   "cell_type": "code",
   "execution_count": 46,
   "id": "1a64e19f-8ba0-485e-835b-698904b1c3dd",
   "metadata": {},
   "outputs": [
    {
     "data": {
      "text/plain": [
       "0        2019-05-26\n",
       "1               NaN\n",
       "2        2018-09-19\n",
       "3        2019-05-24\n",
       "4        2019-06-23\n",
       "            ...    \n",
       "19995    2016-08-27\n",
       "19996    2019-05-21\n",
       "19997    2019-05-23\n",
       "19998    2019-07-01\n",
       "19999    2019-04-28\n",
       "Name: last_review, Length: 20000, dtype: object"
      ]
     },
     "execution_count": 46,
     "metadata": {},
     "output_type": "execute_result"
    }
   ],
   "source": [
    "# last_review is a a date but datatype is string\n",
    "df[\"last_review\"]"
   ]
  },
  {
   "cell_type": "code",
   "execution_count": 47,
   "id": "ad5d563e-9419-487f-96be-a86ecfcec7e0",
   "metadata": {},
   "outputs": [
    {
     "data": {
      "text/plain": [
       "(20000, 16)"
      ]
     },
     "execution_count": 47,
     "metadata": {},
     "output_type": "execute_result"
    }
   ],
   "source": [
    "df.shape"
   ]
  },
  {
   "cell_type": "code",
   "execution_count": 48,
   "id": "27777957-157d-4449-98a2-e9c2e077e56e",
   "metadata": {},
   "outputs": [
    {
     "data": {
      "text/plain": [
       "name\n",
       "Brooklyn Apartment                            7\n",
       "Hillside Hotel                                7\n",
       "Home away from home                           6\n",
       "New york Multi-unit building                  6\n",
       "Private Room                                  6\n",
       "                                             ..\n",
       "Private Backyard! Beautiful 1BR apartment.    1\n",
       "Geometric Getaway                             1\n",
       "A Hidden Gem in Queens                        1\n",
       "Cozy Studio in Midtown                        1\n",
       "Private Bedroom in Williamsburg Apt!          1\n",
       "Name: count, Length: 19768, dtype: int64"
      ]
     },
     "execution_count": 48,
     "metadata": {},
     "output_type": "execute_result"
    }
   ],
   "source": [
    "df[\"name\"].value_counts()"
   ]
  },
  {
   "cell_type": "code",
   "execution_count": 49,
   "id": "94564e36-6fcc-4196-93d3-a986306ea412",
   "metadata": {},
   "outputs": [],
   "source": [
    "# missing values in last_review and reviews_per_month"
   ]
  },
  {
   "cell_type": "code",
   "execution_count": 50,
   "id": "a5d2292c-9391-4a54-91b4-4f7daecbdb9c",
   "metadata": {},
   "outputs": [
    {
     "data": {
      "text/plain": [
       "id                                   0\n",
       "name                                 7\n",
       "host_id                              0\n",
       "host_name                            8\n",
       "neighbourhood_group                  0\n",
       "neighbourhood                        0\n",
       "latitude                             0\n",
       "longitude                            0\n",
       "room_type                            0\n",
       "price                                0\n",
       "minimum_nights                       0\n",
       "number_of_reviews                    0\n",
       "last_review                       4123\n",
       "reviews_per_month                 4123\n",
       "calculated_host_listings_count       0\n",
       "availability_365                     0\n",
       "dtype: int64"
      ]
     },
     "execution_count": 50,
     "metadata": {},
     "output_type": "execute_result"
    }
   ],
   "source": [
    "df.isna().sum()"
   ]
  },
  {
   "cell_type": "code",
   "execution_count": 51,
   "id": "261fa915-67e2-4597-9688-8fe339965c7d",
   "metadata": {},
   "outputs": [],
   "source": [
    "# outliers in price"
   ]
  },
  {
   "cell_type": "code",
   "execution_count": 52,
   "id": "73bcc32e-a087-44e5-9456-e62edd99aa8c",
   "metadata": {},
   "outputs": [
    {
     "data": {
      "text/plain": [
       "count    20000.000000\n",
       "mean       153.269050\n",
       "std        243.325609\n",
       "min          0.000000\n",
       "25%         69.000000\n",
       "50%        105.000000\n",
       "75%        175.000000\n",
       "max      10000.000000\n",
       "Name: price, dtype: float64"
      ]
     },
     "execution_count": 52,
     "metadata": {},
     "output_type": "execute_result"
    }
   ],
   "source": [
    "df[\"price\"].describe()"
   ]
  },
  {
   "cell_type": "code",
   "execution_count": 53,
   "id": "88151c49-ccc0-4cc2-b8b2-8d339f56a735",
   "metadata": {},
   "outputs": [
    {
     "data": {
      "text/plain": [
       "1"
      ]
     },
     "execution_count": 53,
     "metadata": {},
     "output_type": "execute_result"
    }
   ],
   "source": [
    "(df[\"price\"]>9999).sum()"
   ]
  },
  {
   "cell_type": "code",
   "execution_count": 54,
   "id": "942c1ccc-10a3-46a4-af33-596cdfbc4650",
   "metadata": {},
   "outputs": [
    {
     "data": {
      "text/plain": [
       "count    19999.000000\n",
       "mean       152.776689\n",
       "std        233.155913\n",
       "min          0.000000\n",
       "25%         69.000000\n",
       "50%        105.000000\n",
       "75%        175.000000\n",
       "max       9999.000000\n",
       "Name: price, dtype: float64"
      ]
     },
     "execution_count": 54,
     "metadata": {},
     "output_type": "execute_result"
    }
   ],
   "source": [
    "df[\"price\"].loc[df[\"price\"]<=9999].describe()"
   ]
  },
  {
   "cell_type": "code",
   "execution_count": 55,
   "id": "adc71d57-f5f0-42e3-b35a-eedfdcd89a66",
   "metadata": {},
   "outputs": [
    {
     "data": {
      "text/plain": [
       "(994, 16)"
      ]
     },
     "execution_count": 55,
     "metadata": {},
     "output_type": "execute_result"
    }
   ],
   "source": [
    "df[df[\"price\"]>350].shape"
   ]
  },
  {
   "cell_type": "code",
   "execution_count": 56,
   "id": "b4fb0fc2-e42c-4bb7-86b6-1092ff5f4731",
   "metadata": {},
   "outputs": [
    {
     "data": {
      "text/plain": [
       "(20000, 16)"
      ]
     },
     "execution_count": 56,
     "metadata": {},
     "output_type": "execute_result"
    }
   ],
   "source": [
    "df.shape"
   ]
  },
  {
   "cell_type": "code",
   "execution_count": 57,
   "id": "88d11a04-7d55-42d3-9549-04b4bbc4e02c",
   "metadata": {},
   "outputs": [],
   "source": [
    "# Drop outliers\n",
    "min_price = 10\n",
    "max_price = 350\n",
    "idx = df['price'].between(min_price, max_price)\n",
    "df = df[idx].copy()\n",
    "# Convert last_review to datetime\n",
    "df['last_review'] = pd.to_datetime(df['last_review'])"
   ]
  },
  {
   "cell_type": "code",
   "execution_count": 58,
   "id": "ed73656d-d0a7-4f5b-9276-4010b13e4596",
   "metadata": {},
   "outputs": [
    {
     "data": {
      "text/plain": [
       "(19001, 16)"
      ]
     },
     "execution_count": 58,
     "metadata": {},
     "output_type": "execute_result"
    }
   ],
   "source": [
    "df.shape"
   ]
  },
  {
   "cell_type": "code",
   "execution_count": 59,
   "id": "59b6264c-fd1d-4165-8d0c-3cb96fea59be",
   "metadata": {},
   "outputs": [
    {
     "name": "stdout",
     "output_type": "stream",
     "text": [
      "<class 'pandas.core.frame.DataFrame'>\n",
      "Index: 19001 entries, 0 to 19999\n",
      "Data columns (total 16 columns):\n",
      " #   Column                          Non-Null Count  Dtype         \n",
      "---  ------                          --------------  -----         \n",
      " 0   id                              19001 non-null  int64         \n",
      " 1   name                            18994 non-null  object        \n",
      " 2   host_id                         19001 non-null  int64         \n",
      " 3   host_name                       18993 non-null  object        \n",
      " 4   neighbourhood_group             19001 non-null  object        \n",
      " 5   neighbourhood                   19001 non-null  object        \n",
      " 6   latitude                        19001 non-null  float64       \n",
      " 7   longitude                       19001 non-null  float64       \n",
      " 8   room_type                       19001 non-null  object        \n",
      " 9   price                           19001 non-null  int64         \n",
      " 10  minimum_nights                  19001 non-null  int64         \n",
      " 11  number_of_reviews               19001 non-null  int64         \n",
      " 12  last_review                     15243 non-null  datetime64[ns]\n",
      " 13  reviews_per_month               15243 non-null  float64       \n",
      " 14  calculated_host_listings_count  19001 non-null  int64         \n",
      " 15  availability_365                19001 non-null  int64         \n",
      "dtypes: datetime64[ns](1), float64(3), int64(7), object(5)\n",
      "memory usage: 2.5+ MB\n"
     ]
    }
   ],
   "source": [
    "df.info()"
   ]
  },
  {
   "cell_type": "code",
   "execution_count": 70,
   "id": "da5b7ed4-8446-4567-83f3-9c4c1b1d237b",
   "metadata": {},
   "outputs": [
    {
     "data": {
      "application/vnd.jupyter.widget-view+json": {
       "model_id": "74dca1285d374cc1b02138ed0677e300",
       "version_major": 2,
       "version_minor": 0
      },
      "text/plain": [
       "VBox(children=(Label(value='0.005 MB of 0.005 MB uploaded\\r'), FloatProgress(value=1.0, max=1.0)))"
      ]
     },
     "metadata": {},
     "output_type": "display_data"
    },
    {
     "data": {
      "text/html": [
       " View run <strong style=\"color:#cdcd00\">worldly-dragon-3</strong> at: <a href='https://wandb.ai/kbhaskar-between-jobs/nyc_airbnb/runs/xex20kht' target=\"_blank\">https://wandb.ai/kbhaskar-between-jobs/nyc_airbnb/runs/xex20kht</a><br/> View job at <a href='https://wandb.ai/kbhaskar-between-jobs/nyc_airbnb/jobs/QXJ0aWZhY3RDb2xsZWN0aW9uOjYyNTU5ODY5MA==/version_details/v0' target=\"_blank\">https://wandb.ai/kbhaskar-between-jobs/nyc_airbnb/jobs/QXJ0aWZhY3RDb2xsZWN0aW9uOjYyNTU5ODY5MA==/version_details/v0</a><br/>Synced 7 W&B file(s), 0 media file(s), 0 artifact file(s) and 0 other file(s)"
      ],
      "text/plain": [
       "<IPython.core.display.HTML object>"
      ]
     },
     "metadata": {},
     "output_type": "display_data"
    },
    {
     "data": {
      "text/html": [
       "Find logs at: <code>./wandb/run-20250430_121308-xex20kht/logs</code>"
      ],
      "text/plain": [
       "<IPython.core.display.HTML object>"
      ]
     },
     "metadata": {},
     "output_type": "display_data"
    }
   ],
   "source": [
    "run.finish()"
   ]
  },
  {
   "cell_type": "code",
   "execution_count": null,
   "id": "a1b186a1-2d74-4db1-b00d-590b01da6c03",
   "metadata": {},
   "outputs": [],
   "source": []
  },
  {
   "cell_type": "code",
   "execution_count": null,
   "id": "dcb17276-a759-48a0-942e-ab65f5418927",
   "metadata": {},
   "outputs": [],
   "source": []
  },
  {
   "cell_type": "code",
   "execution_count": 1,
   "id": "13ab2609-85cd-4cff-802f-3a549bdca8da",
   "metadata": {},
   "outputs": [],
   "source": [
    "import pandas as pd"
   ]
  },
  {
   "cell_type": "code",
   "execution_count": 2,
   "id": "401a55e3-c86a-4f7c-9c54-91b12904aff2",
   "metadata": {},
   "outputs": [],
   "source": [
    "path_1 = \"/home/kbhaskar/Github_Repos/build-ml-pipeline-for-short-term-rental-prices/components/get_data/data/sample1.csv\"\n",
    "df = pd.read_csv(path_1)\n",
    "#path_2 = \"/home/kbhaskar/Github_Repos/build-ml-pipeline-for-short-term-rental-prices/components/get_data/data/sample2.csv\""
   ]
  },
  {
   "cell_type": "code",
   "execution_count": 8,
   "id": "dc94a8c8-b46d-4023-b4c9-3a7ab767a112",
   "metadata": {},
   "outputs": [
    {
     "data": {
      "text/plain": [
       "0"
      ]
     },
     "execution_count": 8,
     "metadata": {},
     "output_type": "execute_result"
    }
   ],
   "source": [
    "df.duplicated().sum()"
   ]
  },
  {
   "cell_type": "code",
   "execution_count": 2,
   "id": "5275a8a8-40f9-41a7-bd5d-af3e39bcee71",
   "metadata": {},
   "outputs": [],
   "source": [
    "#df1"
   ]
  },
  {
   "cell_type": "code",
   "execution_count": 3,
   "id": "5bbf851f-2d9d-4720-bd3f-3133506ac3ec",
   "metadata": {},
   "outputs": [],
   "source": [
    "#df1.dtypes"
   ]
  },
  {
   "cell_type": "code",
   "execution_count": 4,
   "id": "3a490fbc-7f5b-49b3-ad52-934c576c53e9",
   "metadata": {},
   "outputs": [],
   "source": [
    "#df1.isna().sum()"
   ]
  },
  {
   "cell_type": "code",
   "execution_count": 5,
   "id": "b647c25a-79fb-4696-aa58-f48d96f7e4a1",
   "metadata": {},
   "outputs": [],
   "source": [
    "#df1.head()"
   ]
  },
  {
   "cell_type": "code",
   "execution_count": 60,
   "id": "eb342fde-bcb0-4b26-8b3e-b009ac4ccd1d",
   "metadata": {},
   "outputs": [
    {
     "data": {
      "text/html": [
       "<div>\n",
       "<style scoped>\n",
       "    .dataframe tbody tr th:only-of-type {\n",
       "        vertical-align: middle;\n",
       "    }\n",
       "\n",
       "    .dataframe tbody tr th {\n",
       "        vertical-align: top;\n",
       "    }\n",
       "\n",
       "    .dataframe thead th {\n",
       "        text-align: right;\n",
       "    }\n",
       "</style>\n",
       "<table border=\"1\" class=\"dataframe\">\n",
       "  <thead>\n",
       "    <tr style=\"text-align: right;\">\n",
       "      <th></th>\n",
       "      <th>id</th>\n",
       "      <th>name</th>\n",
       "      <th>host_id</th>\n",
       "      <th>host_name</th>\n",
       "      <th>neighbourhood_group</th>\n",
       "      <th>neighbourhood</th>\n",
       "      <th>latitude</th>\n",
       "      <th>longitude</th>\n",
       "      <th>room_type</th>\n",
       "      <th>price</th>\n",
       "      <th>minimum_nights</th>\n",
       "      <th>number_of_reviews</th>\n",
       "      <th>last_review</th>\n",
       "      <th>reviews_per_month</th>\n",
       "      <th>calculated_host_listings_count</th>\n",
       "      <th>availability_365</th>\n",
       "    </tr>\n",
       "  </thead>\n",
       "  <tbody>\n",
       "    <tr>\n",
       "      <th>0</th>\n",
       "      <td>9138664</td>\n",
       "      <td>Private Lg Room 15 min to Manhattan</td>\n",
       "      <td>47594947</td>\n",
       "      <td>Iris</td>\n",
       "      <td>Queens</td>\n",
       "      <td>Sunnyside</td>\n",
       "      <td>40.74271</td>\n",
       "      <td>-73.92493</td>\n",
       "      <td>Private room</td>\n",
       "      <td>74</td>\n",
       "      <td>2</td>\n",
       "      <td>6</td>\n",
       "      <td>2019-05-26</td>\n",
       "      <td>0.13</td>\n",
       "      <td>1</td>\n",
       "      <td>5</td>\n",
       "    </tr>\n",
       "    <tr>\n",
       "      <th>1</th>\n",
       "      <td>31444015</td>\n",
       "      <td>TIME SQUARE CHARMING ONE BED IN HELL'S KITCHEN...</td>\n",
       "      <td>8523790</td>\n",
       "      <td>Johlex</td>\n",
       "      <td>Manhattan</td>\n",
       "      <td>Hell's Kitchen</td>\n",
       "      <td>40.76682</td>\n",
       "      <td>-73.98878</td>\n",
       "      <td>Entire home/apt</td>\n",
       "      <td>170</td>\n",
       "      <td>3</td>\n",
       "      <td>0</td>\n",
       "      <td>NaT</td>\n",
       "      <td>NaN</td>\n",
       "      <td>1</td>\n",
       "      <td>188</td>\n",
       "    </tr>\n",
       "    <tr>\n",
       "      <th>2</th>\n",
       "      <td>8741020</td>\n",
       "      <td>Voted #1 Location Quintessential 1BR W Village...</td>\n",
       "      <td>45854238</td>\n",
       "      <td>John</td>\n",
       "      <td>Manhattan</td>\n",
       "      <td>West Village</td>\n",
       "      <td>40.73631</td>\n",
       "      <td>-74.00611</td>\n",
       "      <td>Entire home/apt</td>\n",
       "      <td>245</td>\n",
       "      <td>3</td>\n",
       "      <td>51</td>\n",
       "      <td>2018-09-19</td>\n",
       "      <td>1.12</td>\n",
       "      <td>1</td>\n",
       "      <td>0</td>\n",
       "    </tr>\n",
       "    <tr>\n",
       "      <th>3</th>\n",
       "      <td>34602077</td>\n",
       "      <td>Spacious 1 bedroom apartment 15min from Manhattan</td>\n",
       "      <td>261055465</td>\n",
       "      <td>Regan</td>\n",
       "      <td>Queens</td>\n",
       "      <td>Astoria</td>\n",
       "      <td>40.76424</td>\n",
       "      <td>-73.92351</td>\n",
       "      <td>Entire home/apt</td>\n",
       "      <td>125</td>\n",
       "      <td>3</td>\n",
       "      <td>1</td>\n",
       "      <td>2019-05-24</td>\n",
       "      <td>0.65</td>\n",
       "      <td>1</td>\n",
       "      <td>13</td>\n",
       "    </tr>\n",
       "    <tr>\n",
       "      <th>4</th>\n",
       "      <td>23203149</td>\n",
       "      <td>Big beautiful bedroom in huge Bushwick apartment</td>\n",
       "      <td>143460</td>\n",
       "      <td>Megan</td>\n",
       "      <td>Brooklyn</td>\n",
       "      <td>Bushwick</td>\n",
       "      <td>40.69839</td>\n",
       "      <td>-73.92044</td>\n",
       "      <td>Private room</td>\n",
       "      <td>65</td>\n",
       "      <td>2</td>\n",
       "      <td>8</td>\n",
       "      <td>2019-06-23</td>\n",
       "      <td>0.52</td>\n",
       "      <td>2</td>\n",
       "      <td>8</td>\n",
       "    </tr>\n",
       "  </tbody>\n",
       "</table>\n",
       "</div>"
      ],
      "text/plain": [
       "         id                                               name    host_id  \\\n",
       "0   9138664                Private Lg Room 15 min to Manhattan   47594947   \n",
       "1  31444015  TIME SQUARE CHARMING ONE BED IN HELL'S KITCHEN...    8523790   \n",
       "2   8741020  Voted #1 Location Quintessential 1BR W Village...   45854238   \n",
       "3  34602077  Spacious 1 bedroom apartment 15min from Manhattan  261055465   \n",
       "4  23203149   Big beautiful bedroom in huge Bushwick apartment     143460   \n",
       "\n",
       "  host_name neighbourhood_group   neighbourhood  latitude  longitude  \\\n",
       "0      Iris              Queens       Sunnyside  40.74271  -73.92493   \n",
       "1    Johlex           Manhattan  Hell's Kitchen  40.76682  -73.98878   \n",
       "2      John           Manhattan    West Village  40.73631  -74.00611   \n",
       "3     Regan              Queens         Astoria  40.76424  -73.92351   \n",
       "4     Megan            Brooklyn        Bushwick  40.69839  -73.92044   \n",
       "\n",
       "         room_type  price  minimum_nights  number_of_reviews last_review  \\\n",
       "0     Private room     74               2                  6  2019-05-26   \n",
       "1  Entire home/apt    170               3                  0         NaT   \n",
       "2  Entire home/apt    245               3                 51  2018-09-19   \n",
       "3  Entire home/apt    125               3                  1  2019-05-24   \n",
       "4     Private room     65               2                  8  2019-06-23   \n",
       "\n",
       "   reviews_per_month  calculated_host_listings_count  availability_365  \n",
       "0               0.13                               1                 5  \n",
       "1                NaN                               1               188  \n",
       "2               1.12                               1                 0  \n",
       "3               0.65                               1                13  \n",
       "4               0.52                               2                 8  "
      ]
     },
     "execution_count": 60,
     "metadata": {},
     "output_type": "execute_result"
    }
   ],
   "source": [
    "df.head()"
   ]
  },
  {
   "cell_type": "code",
   "execution_count": 67,
   "id": "8dd36ea9-5e62-4068-bbb3-139dd35a4435",
   "metadata": {},
   "outputs": [
    {
     "data": {
      "text/plain": [
       "neighbourhood_group\n",
       "Brooklyn         8046\n",
       "Manhattan        8031\n",
       "Queens           2331\n",
       "Bronx             434\n",
       "Staten Island     159\n",
       "Name: count, dtype: int64"
      ]
     },
     "execution_count": 67,
     "metadata": {},
     "output_type": "execute_result"
    }
   ],
   "source": [
    "df[\"neighbourhood_group\"].value_counts()"
   ]
  },
  {
   "cell_type": "code",
   "execution_count": 69,
   "id": "608646dd-0777-40d2-8d61-0b83cbb47c74",
   "metadata": {},
   "outputs": [
    {
     "data": {
      "text/plain": [
       "neighbourhood\n",
       "Williamsburg          1526\n",
       "Bedford-Stuyvesant    1478\n",
       "Harlem                1086\n",
       "Bushwick               978\n",
       "Upper West Side        734\n",
       "                      ... \n",
       "Bay Terrace              1\n",
       "Howland Hook             1\n",
       "Spuyten Duyvil           1\n",
       "South Beach              1\n",
       "Olinville                1\n",
       "Name: count, Length: 215, dtype: int64"
      ]
     },
     "execution_count": 69,
     "metadata": {},
     "output_type": "execute_result"
    }
   ],
   "source": [
    "df[\"neighbourhood\"].value_counts()"
   ]
  },
  {
   "cell_type": "code",
   "execution_count": null,
   "id": "80bbcc1c-51c5-4a52-8dc6-f982cd8a9102",
   "metadata": {},
   "outputs": [],
   "source": []
  },
  {
   "cell_type": "code",
   "execution_count": null,
   "id": "51d773b9-2522-4330-9be7-5834ca0639f8",
   "metadata": {},
   "outputs": [],
   "source": []
  },
  {
   "cell_type": "code",
   "execution_count": null,
   "id": "7b856488-1b1c-43e6-a4f4-396183fcff22",
   "metadata": {},
   "outputs": [],
   "source": []
  },
  {
   "cell_type": "code",
   "execution_count": null,
   "id": "4980a102-311a-4e49-ae50-4bfe49e4c33d",
   "metadata": {},
   "outputs": [],
   "source": []
  },
  {
   "cell_type": "code",
   "execution_count": null,
   "id": "9f6d42c8-c613-46ad-b88f-372a022dadf5",
   "metadata": {},
   "outputs": [],
   "source": []
  }
 ],
 "metadata": {
  "kernelspec": {
   "display_name": "Python 3 (ipykernel)",
   "language": "python",
   "name": "python3"
  },
  "language_info": {
   "codemirror_mode": {
    "name": "ipython",
    "version": 3
   },
   "file_extension": ".py",
   "mimetype": "text/x-python",
   "name": "python",
   "nbconvert_exporter": "python",
   "pygments_lexer": "ipython3",
   "version": "3.10.12"
  }
 },
 "nbformat": 4,
 "nbformat_minor": 5
}
