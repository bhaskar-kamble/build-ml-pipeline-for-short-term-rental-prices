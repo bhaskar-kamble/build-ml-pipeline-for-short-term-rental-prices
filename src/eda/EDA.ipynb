{
 "cells": [
  {
   "cell_type": "code",
   "execution_count": 2,
   "id": "77f63596-82e5-4f8a-9a88-bc04975f5512",
   "metadata": {},
   "outputs": [],
   "source": []
  },
  {
   "cell_type": "markdown",
   "id": "3e09d97e-e9cb-477e-9687-f2b600213fe0",
   "metadata": {},
   "source": [
    "## Notes:\n",
    "\n",
    "* This notebook carries out basic Explorative Data Analysis (EDA) of the Airbnb data from NYC to understand the nature of the data and if any cleaning has to be done.\n",
    "\n",
    "* A version of this notebook at the time of carrying this analysis is found in the W&B page of the project: https://[wandb.ai/kbhaskar-between-jobs/nyc_airbnb/artifacts/code/source-nyc_airbnb-EDA.ipynb](https://wandb.ai/kbhaskar-between-jobs/nyc_airbnb/artifacts/code/source-nyc_airbnb-EDA.ipynb).\n",
    "\n",
    "* Note that the W&B artifact in this notebook points to `\"sample.csv:latest\"`, which at the time of running this notebook was the data `\"sample1.csv\"`. However, in a subsequent run of the project, the random forest model was trained on a new data of the project called `\"sample2.csv\"`. Hence the W&B artifact `\"sample.csv:latest\"` now refers to `\"sample2.csv\"`. \n",
    "\n",
    "* If you want to carry an analysis of the same data as was used during the creation of this notebook, please use `\"sample.csv:v0\"` instead of `\"sample.csv:latest\"`.\n",
    "\n",
    "## Basic conclusions from this notebook:\n",
    "\n",
    "* The dataset has 20000 rows and 16 columns. The `price` column is the target variable for the ML-pipeline.\n",
    "\n",
    "* There are missing values in the name, reviews per month and last review. reviews per month and last review are missing in identical places, indicating that these have not been reviewed yet.\n",
    "\n",
    "* There are outliers in the `price` column.\n",
    "\n",
    "## Basic cleaning steps suggested by the analysis in this notebook:\n",
    "\n",
    "* We will omit instances where the `price` columns lies outside \\\\$ 10 and \\\\$ 350.\n",
    "\n",
    "* We will change the datatype of `last_review` to pandas datetime object.\n",
    "\n",
    "* Missing values will not be imputed here. Imputing missing values and the other seps mentioned here will be added in the basic cleaning step in the MLflow pipeline, after which the cleaned dataset will be uploaded to Weights and Biases."
   ]
  },
  {
   "cell_type": "code",
   "execution_count": 3,
   "id": "ff059b90-a931-478d-822b-f5264f714c45",
   "metadata": {},
   "outputs": [],
   "source": [
    "import wandb\n",
    "import pandas as pd\n",
    "from ydata_profiling import ProfileReport"
   ]
  },
  {
   "cell_type": "code",
   "execution_count": 42,
   "id": "f7ce6f3a-cf03-408c-b9f6-0722ebd48138",
   "metadata": {},
   "outputs": [
    {
     "data": {
      "text/html": [
       "Finishing last run (ID:kfrn8nhr) before initializing another..."
      ],
      "text/plain": [
       "<IPython.core.display.HTML object>"
      ]
     },
     "metadata": {},
     "output_type": "display_data"
    },
    {
     "data": {
      "application/vnd.jupyter.widget-view+json": {
       "model_id": "fe6d5fa4bf464867baa8173de42d0f7a",
       "version_major": 2,
       "version_minor": 0
      },
      "text/plain": [
       "VBox(children=(Label(value='0.269 MB of 0.269 MB uploaded (0.027 MB deduped)\\r'), FloatProgress(value=1.0, max…"
      ]
     },
     "metadata": {},
     "output_type": "display_data"
    },
    {
     "data": {
      "text/html": [
       "W&B sync reduced upload amount by 7.2%             "
      ],
      "text/plain": [
       "<IPython.core.display.HTML object>"
      ]
     },
     "metadata": {},
     "output_type": "display_data"
    },
    {
     "data": {
      "text/html": [
       " View run <strong style=\"color:#cdcd00\">spring-grass-2</strong> at: <a href='https://wandb.ai/kbhaskar-between-jobs/nyc_airbnb/runs/kfrn8nhr' target=\"_blank\">https://wandb.ai/kbhaskar-between-jobs/nyc_airbnb/runs/kfrn8nhr</a><br/> View job at <a href='https://wandb.ai/kbhaskar-between-jobs/nyc_airbnb/jobs/QXJ0aWZhY3RDb2xsZWN0aW9uOjYyNTU5ODY5MA==/version_details/v0' target=\"_blank\">https://wandb.ai/kbhaskar-between-jobs/nyc_airbnb/jobs/QXJ0aWZhY3RDb2xsZWN0aW9uOjYyNTU5ODY5MA==/version_details/v0</a><br/>Synced 6 W&B file(s), 0 media file(s), 15 artifact file(s) and 1 other file(s)"
      ],
      "text/plain": [
       "<IPython.core.display.HTML object>"
      ]
     },
     "metadata": {},
     "output_type": "display_data"
    },
    {
     "data": {
      "text/html": [
       "Find logs at: <code>./wandb/run-20250430_105852-kfrn8nhr/logs</code>"
      ],
      "text/plain": [
       "<IPython.core.display.HTML object>"
      ]
     },
     "metadata": {},
     "output_type": "display_data"
    },
    {
     "data": {
      "text/html": [
       "Successfully finished last run (ID:kfrn8nhr). Initializing new run:<br/>"
      ],
      "text/plain": [
       "<IPython.core.display.HTML object>"
      ]
     },
     "metadata": {},
     "output_type": "display_data"
    },
    {
     "data": {
      "application/vnd.jupyter.widget-view+json": {
       "model_id": "84c8a6bcd3554f7792085323694b829c",
       "version_major": 2,
       "version_minor": 0
      },
      "text/plain": [
       "VBox(children=(Label(value='Waiting for wandb.init()...\\r'), FloatProgress(value=0.011113640489121382, max=1.0…"
      ]
     },
     "metadata": {},
     "output_type": "display_data"
    },
    {
     "data": {
      "text/html": [
       "wandb version 0.19.10 is available!  To upgrade, please run:\n",
       " $ pip install wandb --upgrade"
      ],
      "text/plain": [
       "<IPython.core.display.HTML object>"
      ]
     },
     "metadata": {},
     "output_type": "display_data"
    },
    {
     "data": {
      "text/html": [
       "Tracking run with wandb version 0.16.4"
      ],
      "text/plain": [
       "<IPython.core.display.HTML object>"
      ]
     },
     "metadata": {},
     "output_type": "display_data"
    },
    {
     "data": {
      "text/html": [
       "Run data is saved locally in <code>/home/kbhaskar/Github_Repos/build-ml-pipeline-for-short-term-rental-prices/src/eda/wandb/run-20250430_121308-xex20kht</code>"
      ],
      "text/plain": [
       "<IPython.core.display.HTML object>"
      ]
     },
     "metadata": {},
     "output_type": "display_data"
    },
    {
     "data": {
      "text/html": [
       "Syncing run <strong><a href='https://wandb.ai/kbhaskar-between-jobs/nyc_airbnb/runs/xex20kht' target=\"_blank\">worldly-dragon-3</a></strong> to <a href='https://wandb.ai/kbhaskar-between-jobs/nyc_airbnb' target=\"_blank\">Weights & Biases</a> (<a href='https://wandb.me/run' target=\"_blank\">docs</a>)<br/>"
      ],
      "text/plain": [
       "<IPython.core.display.HTML object>"
      ]
     },
     "metadata": {},
     "output_type": "display_data"
    },
    {
     "data": {
      "text/html": [
       " View project at <a href='https://wandb.ai/kbhaskar-between-jobs/nyc_airbnb' target=\"_blank\">https://wandb.ai/kbhaskar-between-jobs/nyc_airbnb</a>"
      ],
      "text/plain": [
       "<IPython.core.display.HTML object>"
      ]
     },
     "metadata": {},
     "output_type": "display_data"
    },
    {
     "data": {
      "text/html": [
       " View run at <a href='https://wandb.ai/kbhaskar-between-jobs/nyc_airbnb/runs/xex20kht' target=\"_blank\">https://wandb.ai/kbhaskar-between-jobs/nyc_airbnb/runs/xex20kht</a>"
      ],
      "text/plain": [
       "<IPython.core.display.HTML object>"
      ]
     },
     "metadata": {},
     "output_type": "display_data"
    }
   ],
   "source": [
    "run = wandb.init(project=\"nyc_airbnb\", group=\"eda\", save_code=True)\n",
    "local_path = wandb.use_artifact(\"sample.csv:latest\").file()\n",
    "df = pd.read_csv(local_path)"
   ]
  },
  {
   "cell_type": "markdown",
   "id": "ff7596d7-ad57-42ba-983d-e1b67e98a961",
   "metadata": {},
   "source": [
    "* There are 20000 rows and 16 columns in the dataset."
   ]
  },
  {
   "cell_type": "code",
   "execution_count": 43,
   "id": "170c41a1-4f73-4f66-9614-3801aa85a1fb",
   "metadata": {},
   "outputs": [
    {
     "data": {
      "text/plain": [
       "(20000, 16)"
      ]
     },
     "execution_count": 43,
     "metadata": {},
     "output_type": "execute_result"
    }
   ],
   "source": [
    "df.shape"
   ]
  },
  {
   "cell_type": "code",
   "execution_count": 44,
   "id": "c34b6022-039c-459a-a02e-d72380e70998",
   "metadata": {},
   "outputs": [
    {
     "data": {
      "application/vnd.jupyter.widget-view+json": {
       "model_id": "c7367d35704c4baaa3f75d668b0c0ea5",
       "version_major": 2,
       "version_minor": 0
      },
      "text/plain": [
       "Summarize dataset:   0%|          | 0/5 [00:00<?, ?it/s]"
      ]
     },
     "metadata": {},
     "output_type": "display_data"
    },
    {
     "data": {
      "application/vnd.jupyter.widget-view+json": {
       "model_id": "ce26bf72df0e45ecbaa34bc7cb2f7814",
       "version_major": 2,
       "version_minor": 0
      },
      "text/plain": [
       "Generate report structure:   0%|          | 0/1 [00:00<?, ?it/s]"
      ]
     },
     "metadata": {},
     "output_type": "display_data"
    },
    {
     "data": {
      "application/vnd.jupyter.widget-view+json": {
       "model_id": "28b39f7c17d84dbd819cfe6327b5f363",
       "version_major": 2,
       "version_minor": 0
      },
      "text/plain": [
       "Render widgets:   0%|          | 0/1 [00:00<?, ?it/s]"
      ]
     },
     "metadata": {},
     "output_type": "display_data"
    },
    {
     "data": {
      "application/vnd.jupyter.widget-view+json": {
       "model_id": "5518858eff724d308efcfbe17836e734",
       "version_major": 2,
       "version_minor": 0
      },
      "text/plain": [
       "VBox(children=(Tab(children=(Tab(children=(GridBox(children=(VBox(children=(GridspecLayout(children=(HTML(valu…"
      ]
     },
     "metadata": {},
     "output_type": "display_data"
    }
   ],
   "source": [
    "profile = ProfileReport(df, title=\"Pandas Profiling Report\", explorative=True)\n",
    "profile.to_widgets()"
   ]
  },
  {
   "cell_type": "code",
   "execution_count": 45,
   "id": "386770a5-fc52-408a-8e06-39c76d5d92bb",
   "metadata": {},
   "outputs": [
    {
     "data": {
      "text/plain": [
       "id                                  int64\n",
       "name                               object\n",
       "host_id                             int64\n",
       "host_name                          object\n",
       "neighbourhood_group                object\n",
       "neighbourhood                      object\n",
       "latitude                          float64\n",
       "longitude                         float64\n",
       "room_type                          object\n",
       "price                               int64\n",
       "minimum_nights                      int64\n",
       "number_of_reviews                   int64\n",
       "last_review                        object\n",
       "reviews_per_month                 float64\n",
       "calculated_host_listings_count      int64\n",
       "availability_365                    int64\n",
       "dtype: object"
      ]
     },
     "execution_count": 45,
     "metadata": {},
     "output_type": "execute_result"
    }
   ],
   "source": [
    "df.dtypes"
   ]
  },
  {
   "cell_type": "markdown",
   "id": "3451d2cc-4233-40d9-adf1-6b049b14f56c",
   "metadata": {},
   "source": [
    "* The above shows that the column `last_review` is a string although it contains dates:"
   ]
  },
  {
   "cell_type": "code",
   "execution_count": 46,
   "id": "1a64e19f-8ba0-485e-835b-698904b1c3dd",
   "metadata": {},
   "outputs": [
    {
     "data": {
      "text/plain": [
       "0        2019-05-26\n",
       "1               NaN\n",
       "2        2018-09-19\n",
       "3        2019-05-24\n",
       "4        2019-06-23\n",
       "            ...    \n",
       "19995    2016-08-27\n",
       "19996    2019-05-21\n",
       "19997    2019-05-23\n",
       "19998    2019-07-01\n",
       "19999    2019-04-28\n",
       "Name: last_review, Length: 20000, dtype: object"
      ]
     },
     "execution_count": 46,
     "metadata": {},
     "output_type": "execute_result"
    }
   ],
   "source": [
    "df[\"last_review\"]"
   ]
  },
  {
   "cell_type": "code",
   "execution_count": 48,
   "id": "27777957-157d-4449-98a2-e9c2e077e56e",
   "metadata": {},
   "outputs": [
    {
     "data": {
      "text/plain": [
       "name\n",
       "Brooklyn Apartment                            7\n",
       "Hillside Hotel                                7\n",
       "Home away from home                           6\n",
       "New york Multi-unit building                  6\n",
       "Private Room                                  6\n",
       "                                             ..\n",
       "Private Backyard! Beautiful 1BR apartment.    1\n",
       "Geometric Getaway                             1\n",
       "A Hidden Gem in Queens                        1\n",
       "Cozy Studio in Midtown                        1\n",
       "Private Bedroom in Williamsburg Apt!          1\n",
       "Name: count, Length: 19768, dtype: int64"
      ]
     },
     "execution_count": 48,
     "metadata": {},
     "output_type": "execute_result"
    }
   ],
   "source": [
    "df[\"name\"].value_counts()"
   ]
  },
  {
   "cell_type": "markdown",
   "id": "577c8bcb-9cfc-44a0-8579-676db7e4bf66",
   "metadata": {},
   "source": [
    "* There are missing values in `last_review` and `reviews_per_month` columns:"
   ]
  },
  {
   "cell_type": "code",
   "execution_count": 50,
   "id": "a5d2292c-9391-4a54-91b4-4f7daecbdb9c",
   "metadata": {},
   "outputs": [
    {
     "data": {
      "text/plain": [
       "id                                   0\n",
       "name                                 7\n",
       "host_id                              0\n",
       "host_name                            8\n",
       "neighbourhood_group                  0\n",
       "neighbourhood                        0\n",
       "latitude                             0\n",
       "longitude                            0\n",
       "room_type                            0\n",
       "price                                0\n",
       "minimum_nights                       0\n",
       "number_of_reviews                    0\n",
       "last_review                       4123\n",
       "reviews_per_month                 4123\n",
       "calculated_host_listings_count       0\n",
       "availability_365                     0\n",
       "dtype: int64"
      ]
     },
     "execution_count": 50,
     "metadata": {},
     "output_type": "execute_result"
    }
   ],
   "source": [
    "df.isna().sum()"
   ]
  },
  {
   "cell_type": "code",
   "execution_count": 52,
   "id": "73bcc32e-a087-44e5-9456-e62edd99aa8c",
   "metadata": {},
   "outputs": [
    {
     "data": {
      "text/plain": [
       "count    20000.000000\n",
       "mean       153.269050\n",
       "std        243.325609\n",
       "min          0.000000\n",
       "25%         69.000000\n",
       "50%        105.000000\n",
       "75%        175.000000\n",
       "max      10000.000000\n",
       "Name: price, dtype: float64"
      ]
     },
     "execution_count": 52,
     "metadata": {},
     "output_type": "execute_result"
    }
   ],
   "source": [
    "df[\"price\"].describe()"
   ]
  },
  {
   "cell_type": "markdown",
   "id": "8df00a63-ffc1-4fb1-aedd-25ff9f5aa3ec",
   "metadata": {},
   "source": [
    "* The above shows that there are outliers in the `price` column, and some are also zero.\n",
    "* Omit instances with price outside the range \\\\$10 and \\\\$350:"
   ]
  },
  {
   "cell_type": "code",
   "execution_count": 57,
   "id": "88d11a04-7d55-42d3-9549-04b4bbc4e02c",
   "metadata": {},
   "outputs": [],
   "source": [
    "# Drop outliers\n",
    "min_price = 10\n",
    "max_price = 350\n",
    "idx = df['price'].between(min_price, max_price)\n",
    "df = df[idx].copy()\n",
    "# Convert last_review to datetime\n",
    "df['last_review'] = pd.to_datetime(df['last_review'])"
   ]
  },
  {
   "cell_type": "code",
   "execution_count": 58,
   "id": "ed73656d-d0a7-4f5b-9276-4010b13e4596",
   "metadata": {},
   "outputs": [
    {
     "data": {
      "text/plain": [
       "(19001, 16)"
      ]
     },
     "execution_count": 58,
     "metadata": {},
     "output_type": "execute_result"
    }
   ],
   "source": [
    "# Number of rows after removing outliers:\n",
    "df.shape"
   ]
  },
  {
   "cell_type": "code",
   "execution_count": 59,
   "id": "59b6264c-fd1d-4165-8d0c-3cb96fea59be",
   "metadata": {},
   "outputs": [
    {
     "name": "stdout",
     "output_type": "stream",
     "text": [
      "<class 'pandas.core.frame.DataFrame'>\n",
      "Index: 19001 entries, 0 to 19999\n",
      "Data columns (total 16 columns):\n",
      " #   Column                          Non-Null Count  Dtype         \n",
      "---  ------                          --------------  -----         \n",
      " 0   id                              19001 non-null  int64         \n",
      " 1   name                            18994 non-null  object        \n",
      " 2   host_id                         19001 non-null  int64         \n",
      " 3   host_name                       18993 non-null  object        \n",
      " 4   neighbourhood_group             19001 non-null  object        \n",
      " 5   neighbourhood                   19001 non-null  object        \n",
      " 6   latitude                        19001 non-null  float64       \n",
      " 7   longitude                       19001 non-null  float64       \n",
      " 8   room_type                       19001 non-null  object        \n",
      " 9   price                           19001 non-null  int64         \n",
      " 10  minimum_nights                  19001 non-null  int64         \n",
      " 11  number_of_reviews               19001 non-null  int64         \n",
      " 12  last_review                     15243 non-null  datetime64[ns]\n",
      " 13  reviews_per_month               15243 non-null  float64       \n",
      " 14  calculated_host_listings_count  19001 non-null  int64         \n",
      " 15  availability_365                19001 non-null  int64         \n",
      "dtypes: datetime64[ns](1), float64(3), int64(7), object(5)\n",
      "memory usage: 2.5+ MB\n"
     ]
    }
   ],
   "source": [
    "df.info()"
   ]
  },
  {
   "cell_type": "code",
   "execution_count": 70,
   "id": "da5b7ed4-8446-4567-83f3-9c4c1b1d237b",
   "metadata": {},
   "outputs": [
    {
     "data": {
      "application/vnd.jupyter.widget-view+json": {
       "model_id": "74dca1285d374cc1b02138ed0677e300",
       "version_major": 2,
       "version_minor": 0
      },
      "text/plain": [
       "VBox(children=(Label(value='0.005 MB of 0.005 MB uploaded\\r'), FloatProgress(value=1.0, max=1.0)))"
      ]
     },
     "metadata": {},
     "output_type": "display_data"
    },
    {
     "data": {
      "text/html": [
       " View run <strong style=\"color:#cdcd00\">worldly-dragon-3</strong> at: <a href='https://wandb.ai/kbhaskar-between-jobs/nyc_airbnb/runs/xex20kht' target=\"_blank\">https://wandb.ai/kbhaskar-between-jobs/nyc_airbnb/runs/xex20kht</a><br/> View job at <a href='https://wandb.ai/kbhaskar-between-jobs/nyc_airbnb/jobs/QXJ0aWZhY3RDb2xsZWN0aW9uOjYyNTU5ODY5MA==/version_details/v0' target=\"_blank\">https://wandb.ai/kbhaskar-between-jobs/nyc_airbnb/jobs/QXJ0aWZhY3RDb2xsZWN0aW9uOjYyNTU5ODY5MA==/version_details/v0</a><br/>Synced 7 W&B file(s), 0 media file(s), 0 artifact file(s) and 0 other file(s)"
      ],
      "text/plain": [
       "<IPython.core.display.HTML object>"
      ]
     },
     "metadata": {},
     "output_type": "display_data"
    },
    {
     "data": {
      "text/html": [
       "Find logs at: <code>./wandb/run-20250430_121308-xex20kht/logs</code>"
      ],
      "text/plain": [
       "<IPython.core.display.HTML object>"
      ]
     },
     "metadata": {},
     "output_type": "display_data"
    }
   ],
   "source": [
    "run.finish()"
   ]
  },
  {
   "cell_type": "code",
   "execution_count": null,
   "id": "a1b186a1-2d74-4db1-b00d-590b01da6c03",
   "metadata": {},
   "outputs": [],
   "source": []
  },
  {
   "cell_type": "code",
   "execution_count": null,
   "id": "dcb17276-a759-48a0-942e-ab65f5418927",
   "metadata": {},
   "outputs": [],
   "source": []
  }
 ],
 "metadata": {
  "kernelspec": {
   "display_name": "Python 3 (ipykernel)",
   "language": "python",
   "name": "python3"
  },
  "language_info": {
   "codemirror_mode": {
    "name": "ipython",
    "version": 3
   },
   "file_extension": ".py",
   "mimetype": "text/x-python",
   "name": "python",
   "nbconvert_exporter": "python",
   "pygments_lexer": "ipython3",
   "version": "3.10.14"
  }
 },
 "nbformat": 4,
 "nbformat_minor": 5
}
